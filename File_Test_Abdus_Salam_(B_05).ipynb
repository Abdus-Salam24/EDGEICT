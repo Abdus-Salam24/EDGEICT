{
  "nbformat": 4,
  "nbformat_minor": 0,
  "metadata": {
    "colab": {
      "provenance": [],
      "authorship_tag": "ABX9TyPKtHlKQ5VjYI/mzUHQeOV+",
      "include_colab_link": true
    },
    "kernelspec": {
      "name": "python3",
      "display_name": "Python 3"
    },
    "language_info": {
      "name": "python"
    }
  },
  "cells": [
    {
      "cell_type": "markdown",
      "metadata": {
        "id": "view-in-github",
        "colab_type": "text"
      },
      "source": [
        "<a href=\"https://colab.research.google.com/github/Abdus-Salam24/EDGEICT/blob/main/File_Test_Abdus_Salam_(B_05).ipynb\" target=\"_parent\"><img src=\"https://colab.research.google.com/assets/colab-badge.svg\" alt=\"Open In Colab\"/></a>"
      ]
    },
    {
      "cell_type": "code",
      "execution_count": 1,
      "metadata": {
        "id": "1B1WXv9c50r0"
      },
      "outputs": [],
      "source": [
        "file = open(\"EdgeICT.txt\",\"w\")\n",
        "file.write(\"I am Abdus Salam, department of ICT.\\nThis is from batch 50 \\nEDGE ICT\\nThanks\\nHello and Welcome...End\\n\")\n",
        "file.close()"
      ]
    },
    {
      "cell_type": "code",
      "source": [
        "file = open(\"EdgeICT.txt\",\"r\")\n",
        "content = file.read()\n",
        "print(content)\n",
        "file.close()"
      ],
      "metadata": {
        "colab": {
          "base_uri": "https://localhost:8080/"
        },
        "id": "pOyMbmBP6So-",
        "outputId": "0defd2f7-ce9c-42e8-f921-202906236036"
      },
      "execution_count": 2,
      "outputs": [
        {
          "output_type": "stream",
          "name": "stdout",
          "text": [
            "I am Abdus Salam, department of ICT.\n",
            "This is from batch 50 \n",
            "EDGE ICT\n",
            "Thanks\n",
            "Hello and Welcome...End\n",
            "\n"
          ]
        }
      ]
    },
    {
      "cell_type": "code",
      "source": [
        "import sys\n",
        "mess = \"this\"\n",
        "print(sys.getsizeof(mess))"
      ],
      "metadata": {
        "colab": {
          "base_uri": "https://localhost:8080/"
        },
        "id": "ehsVq0bl66pL",
        "outputId": "00ec9710-6bf7-4b30-a7e4-f2480e90790d"
      },
      "execution_count": 3,
      "outputs": [
        {
          "output_type": "stream",
          "name": "stdout",
          "text": [
            "53\n"
          ]
        }
      ]
    },
    {
      "cell_type": "code",
      "source": [
        "file = open(\"/content/EdgeICT.txt\",\"r\")\n",
        "content = file.read()\n",
        "print(content)\n",
        "file.close()"
      ],
      "metadata": {
        "colab": {
          "base_uri": "https://localhost:8080/"
        },
        "id": "7MDzfFay7KOv",
        "outputId": "4def1c12-0ba1-4736-ec55-4627f7f0fd6a"
      },
      "execution_count": null,
      "outputs": [
        {
          "output_type": "stream",
          "name": "stdout",
          "text": [
            "This is from batch 50 \n",
            "EDGE ICT\n",
            "Thanks\n",
            "Hello and Welcome...\n",
            "I am abdus Salam, department of ICT\n"
          ]
        }
      ]
    },
    {
      "cell_type": "code",
      "source": [
        "file = open(\"/content/EdgeICT.txt\",\"r\")\n",
        "while True:\n",
        "  content = file.readline()\n",
        "  if not content:\n",
        "    break\n",
        "  print(content)\n",
        "file.close()"
      ],
      "metadata": {
        "colab": {
          "base_uri": "https://localhost:8080/"
        },
        "id": "2sZ6L4Hl716q",
        "outputId": "198aef26-692f-4595-8e76-9bf22537972d"
      },
      "execution_count": null,
      "outputs": [
        {
          "output_type": "stream",
          "name": "stdout",
          "text": [
            "I am Abdus Salam, department of ICT.\n",
            "\n",
            "This is from batch 50 \n",
            "\n",
            "EDGE ICT\n",
            "\n",
            "Thanks\n",
            "\n",
            "Hello and Welcome...End\n",
            "\n"
          ]
        }
      ]
    },
    {
      "cell_type": "code",
      "source": [
        "# prompt: search 'the' exists in the file or not, python code\n",
        "\n",
        "import sys\n",
        "\n",
        "def search_word_in_file(filepath, word):\n",
        "    \"\"\"\n",
        "    Searches for a specific word in a file and returns True if found, False otherwise.\n",
        "    \"\"\"\n",
        "    try:\n",
        "        with open(filepath, 'r') as file:\n",
        "            for line in file:\n",
        "                if word in line:\n",
        "                    return True  # Word found\n",
        "            return False  # Word not found\n",
        "    except FileNotFoundError:\n",
        "        print(f\"Error: File '{filepath}' not found.\")\n",
        "        return False\n",
        "\n",
        "# Example usage:\n",
        "filepath = '/content/EdgeICT.txt'\n",
        "word_to_search = str(input())\n",
        "if search_word_in_file(filepath, word_to_search):\n",
        "    print(f\"'{word_to_search}' found in '{filepath}'\")\n",
        "else:\n",
        "    print(f\"'{word_to_search}' not found in '{filepath}'\")"
      ],
      "metadata": {
        "colab": {
          "base_uri": "https://localhost:8080/"
        },
        "id": "mXzN42lx9PuN",
        "outputId": "ccfaee01-2cc2-4a67-cb37-ce08e2472453"
      },
      "execution_count": null,
      "outputs": [
        {
          "output_type": "stream",
          "name": "stdout",
          "text": [
            "This\n",
            "'This' found in '/content/EdgeICT.txt'\n"
          ]
        }
      ]
    },
    {
      "cell_type": "code",
      "source": [
        "i = input ('Enter search word: ')\n",
        "\n",
        "f = open('/content/EdgeICT.txt','r')\n",
        "\n",
        "state = False\n",
        "while True:\n",
        "  x = f.readline()\n",
        "  if i in x:\n",
        "    state = True\n",
        "    break\n",
        "  if not x:\n",
        "    break\n",
        "\n",
        "if state:\n",
        "  print('found')\n",
        "else:\n",
        "  print('not found')\n",
        "\n",
        "f.close()"
      ],
      "metadata": {
        "colab": {
          "base_uri": "https://localhost:8080/"
        },
        "id": "_zjc75Ci_FxQ",
        "outputId": "5fed26b0-b1e6-4f54-f95e-261b37fc4ed4"
      },
      "execution_count": null,
      "outputs": [
        {
          "output_type": "stream",
          "name": "stdout",
          "text": [
            "Enter search word: 50\n",
            "found\n"
          ]
        }
      ]
    },
    {
      "cell_type": "code",
      "source": [],
      "metadata": {
        "id": "tj1Z5SU0_Up1"
      },
      "execution_count": null,
      "outputs": []
    }
  ]
}