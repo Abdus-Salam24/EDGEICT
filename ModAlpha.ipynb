{
  "nbformat": 4,
  "nbformat_minor": 0,
  "metadata": {
    "colab": {
      "provenance": [],
      "authorship_tag": "ABX9TyPK+ZfhYlcM/n22cI9oVn47",
      "include_colab_link": true
    },
    "kernelspec": {
      "name": "python3",
      "display_name": "Python 3"
    },
    "language_info": {
      "name": "python"
    }
  },
  "cells": [
    {
      "cell_type": "markdown",
      "metadata": {
        "id": "view-in-github",
        "colab_type": "text"
      },
      "source": [
        "<a href=\"https://colab.research.google.com/github/Abdus-Salam24/EDGEICT/blob/main/ModAlpha.ipynb\" target=\"_parent\"><img src=\"https://colab.research.google.com/assets/colab-badge.svg\" alt=\"Open In Colab\"/></a>"
      ]
    },
    {
      "cell_type": "code",
      "execution_count": null,
      "metadata": {
        "id": "za1sCxEFij8T"
      },
      "outputs": [],
      "source": [
        "def getAlpha(start, end):\n",
        "  return[chr(c)+ \" = \"+str(c) for c in range(ord(start), ord(end)+1)]\n",
        "\n",
        "class ModAlpha:\n",
        "  pass"
      ]
    }
  ]
}