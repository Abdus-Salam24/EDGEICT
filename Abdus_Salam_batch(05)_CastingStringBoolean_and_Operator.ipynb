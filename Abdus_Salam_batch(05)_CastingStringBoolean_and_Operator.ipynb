{
  "nbformat": 4,
  "nbformat_minor": 0,
  "metadata": {
    "colab": {
      "provenance": [],
      "toc_visible": true,
      "authorship_tag": "ABX9TyOe+NMRsKWpwPNx4KA9qc7x",
      "include_colab_link": true
    },
    "kernelspec": {
      "name": "python3",
      "display_name": "Python 3"
    },
    "language_info": {
      "name": "python"
    }
  },
  "cells": [
    {
      "cell_type": "markdown",
      "metadata": {
        "id": "view-in-github",
        "colab_type": "text"
      },
      "source": [
        "<a href=\"https://colab.research.google.com/github/Abdus-Salam24/EDGEICT/blob/main/Abdus_Salam_batch(05)_CastingStringBoolean_and_Operator.ipynb\" target=\"_parent\"><img src=\"https://colab.research.google.com/assets/colab-badge.svg\" alt=\"Open In Colab\"/></a>"
      ]
    },
    {
      "cell_type": "markdown",
      "source": [
        "#**Casting in python**\n",
        "\n",
        "Casting in python is therefore done using constructor functions:\n",
        "\n",
        "   \n",
        "\n",
        "*   int() - constructs an integer number from an integer literal, a float literal\n",
        "(by removing all decimals), or a string literal (providing the string represents a whole number)\n",
        "*   float() - constructs a float number from an integer literal, a float literal or a string literal (providing the string represents a float or an integer)\n",
        "*   str() - constructs a string from a wide variety of data types, including strings, integer literals and float literals\n",
        "\n",
        "\n",
        "\n",
        "\n"
      ],
      "metadata": {
        "id": "GOWJ2ja7Hw1V"
      }
    },
    {
      "cell_type": "code",
      "execution_count": null,
      "metadata": {
        "id": "iLILdedDnvFE",
        "colab": {
          "base_uri": "https://localhost:8080/"
        },
        "outputId": "e7ee2b14-f95d-4afc-b10f-1306e0c729cb"
      },
      "outputs": [
        {
          "output_type": "stream",
          "name": "stdout",
          "text": [
            "1 2 3\n"
          ]
        }
      ],
      "source": [
        "x = int(1)   # x will be 1\n",
        "y = int(2.8) # y will be 2\n",
        "z = int(\"3\") # z will be 3\n",
        "print(x, y, z)"
      ]
    },
    {
      "cell_type": "code",
      "source": [
        "x = float(1)     # x will be 1.0\n",
        "y = float(2.8)   # y will be 2.8\n",
        "z = float(\"3\")   # z will be 3.0\n",
        "w = float(\"4.2\") # w will be 4.2\n",
        "print(x, y, z, w)"
      ],
      "metadata": {
        "colab": {
          "base_uri": "https://localhost:8080/"
        },
        "id": "ey-0dzdFKeyJ",
        "outputId": "4d035e5d-8d1c-4ab2-b3f7-88335c6c4e28"
      },
      "execution_count": null,
      "outputs": [
        {
          "output_type": "stream",
          "name": "stdout",
          "text": [
            "1.0 2.8 3.0 4.2\n"
          ]
        }
      ]
    },
    {
      "cell_type": "code",
      "source": [
        "x = str(\"s1\") # x will be 's1'\n",
        "y = str(2)    # y will be '2'\n",
        "z = str(3.0)  # z will be '3.0'\n",
        "print(x, y, z)"
      ],
      "metadata": {
        "colab": {
          "base_uri": "https://localhost:8080/"
        },
        "id": "1V_AFp4nKoxz",
        "outputId": "3b4e3205-2642-45d2-fc1e-3e39a1e6ed09"
      },
      "execution_count": null,
      "outputs": [
        {
          "output_type": "stream",
          "name": "stdout",
          "text": [
            "s1 2 3.0\n"
          ]
        }
      ]
    },
    {
      "cell_type": "markdown",
      "source": [
        "#**String in python**"
      ],
      "metadata": {
        "id": "PBThAs01LEd4"
      }
    },
    {
      "cell_type": "code",
      "source": [
        "a = \"Hello\" #string variable\n",
        "print(a)"
      ],
      "metadata": {
        "colab": {
          "base_uri": "https://localhost:8080/"
        },
        "id": "fvuJDTNnLMAq",
        "outputId": "eef943b3-8765-4583-91d8-d7ca6aa1121f"
      },
      "execution_count": null,
      "outputs": [
        {
          "output_type": "stream",
          "name": "stdout",
          "text": [
            "Hello\n"
          ]
        }
      ]
    },
    {
      "cell_type": "markdown",
      "source": [
        "assign a multiline string to a variable by using three quotes or three single quotes:"
      ],
      "metadata": {
        "id": "8VqAOYG6cyC-"
      }
    },
    {
      "cell_type": "code",
      "source": [
        "a = \"\"\"Lorem ipsum dolor sit amet,\n",
        "consectetur adipiscing elit,\n",
        "sed do eiusmod tempor incididunt\n",
        "ut labore et dolore magna aliqua.\"\"\"\n",
        "print(a+\"\\n\")\n",
        "b = '''Lorem ipsum dolor sit amet,\n",
        "consectetur adipiscing elit.'''\n",
        "print(b)"
      ],
      "metadata": {
        "colab": {
          "base_uri": "https://localhost:8080/"
        },
        "id": "FXVLK_AQc3o4",
        "outputId": "60892040-b779-4cad-82ff-42c1f9b7b51e"
      },
      "execution_count": 3,
      "outputs": [
        {
          "output_type": "stream",
          "name": "stdout",
          "text": [
            "Lorem ipsum dolor sit amet,\n",
            "consectetur adipiscing elit,\n",
            "sed do eiusmod tempor incididunt\n",
            "ut labore et dolore magna aliqua.\n",
            "\n",
            "Lorem ipsum dolor sit amet,\n",
            "consectetur adipiscing elit.\n"
          ]
        }
      ]
    },
    {
      "cell_type": "code",
      "source": [
        "#strings are arrays\n",
        "a = \"Hello, World!\"\n",
        "print(a[0:6])"
      ],
      "metadata": {
        "colab": {
          "base_uri": "https://localhost:8080/"
        },
        "id": "iC12AqrwddTs",
        "outputId": "ef1c9068-1c3e-4176-8481-feb3fbf8962c"
      },
      "execution_count": 7,
      "outputs": [
        {
          "output_type": "stream",
          "name": "stdout",
          "text": [
            "Hello,\n"
          ]
        }
      ]
    },
    {
      "cell_type": "code",
      "source": [
        "#looping through a string\n",
        "for x in \"banana\":\n",
        "  print(x)"
      ],
      "metadata": {
        "colab": {
          "base_uri": "https://localhost:8080/"
        },
        "id": "vYm9cvWOd3CC",
        "outputId": "9d6ba2e8-4194-4dcf-bb7a-9e8b7df34ff2"
      },
      "execution_count": 8,
      "outputs": [
        {
          "output_type": "stream",
          "name": "stdout",
          "text": [
            "b\n",
            "a\n",
            "n\n",
            "a\n",
            "n\n",
            "a\n"
          ]
        }
      ]
    },
    {
      "cell_type": "code",
      "source": [
        "#To get the length of a string, use the len() function.\n",
        "#string length\n",
        "a = \"Hello, World!\"\n",
        "print(len(a))"
      ],
      "metadata": {
        "colab": {
          "base_uri": "https://localhost:8080/"
        },
        "id": "9FeFvVhVeGId",
        "outputId": "4044720f-c45a-4462-89e4-7f8c375b249f"
      },
      "execution_count": 11,
      "outputs": [
        {
          "output_type": "stream",
          "name": "stdout",
          "text": [
            "13\n"
          ]
        }
      ]
    },
    {
      "cell_type": "markdown",
      "source": [
        "#Cheaking String"
      ],
      "metadata": {
        "id": "uNXSKzIiexrR"
      }
    },
    {
      "cell_type": "code",
      "source": [
        "#To check if a certain phrase or character is present in a string, we can use the keyword in.\n",
        "txt = \"The best things in life are free!\"\n",
        "print(\"free\" in txt)"
      ],
      "metadata": {
        "colab": {
          "base_uri": "https://localhost:8080/"
        },
        "id": "aZQMalc0evw9",
        "outputId": "7f14ff2a-cbe1-43f8-eb84-9d3dbf89f168"
      },
      "execution_count": 13,
      "outputs": [
        {
          "output_type": "stream",
          "name": "stdout",
          "text": [
            "True\n"
          ]
        }
      ]
    },
    {
      "cell_type": "code",
      "source": [
        "#Use it in an if statement\n",
        "txt = \"The best things in life are free!\"\n",
        "if \"free\" in txt:\n",
        "  print(\"Yes, 'free' is present.\")\n",
        "#else:\n",
        "  #print(\"No, it's not present.\")"
      ],
      "metadata": {
        "colab": {
          "base_uri": "https://localhost:8080/"
        },
        "id": "4yKBH4wzgpU5",
        "outputId": "95595fde-cf75-4807-c769-519b122456e6"
      },
      "execution_count": 22,
      "outputs": [
        {
          "output_type": "stream",
          "name": "stdout",
          "text": [
            "Yes, 'free' is present.\n"
          ]
        }
      ]
    },
    {
      "cell_type": "markdown",
      "source": [
        "#Check if NOT"
      ],
      "metadata": {
        "id": "DmVgy8k6h1aV"
      }
    },
    {
      "cell_type": "code",
      "source": [
        "#To check if a certain phrase or character is NOT present in a string, we can use the keyword not in.\n",
        "txt = \"The best things in life are free!\"\n",
        "print(\"expensive\" not in txt)\n",
        "\n",
        "#Use it in an if statement\n",
        "if \"expensive\" not in txt:\n",
        "  print(\"\\nNo, 'expensive' is NOT present.\")"
      ],
      "metadata": {
        "colab": {
          "base_uri": "https://localhost:8080/"
        },
        "id": "fzKWfglBh8Eb",
        "outputId": "a5cd0b95-5c02-4f3e-fc1d-855c4f2faf42"
      },
      "execution_count": 24,
      "outputs": [
        {
          "output_type": "stream",
          "name": "stdout",
          "text": [
            "True\n",
            "\n",
            "No, 'expensive' is NOT present.\n"
          ]
        }
      ]
    },
    {
      "cell_type": "markdown",
      "source": [
        "#Python - Slicing Strings\n",
        "*   Specify, leaving, negative\n",
        "\n",
        "\n",
        "\n"
      ],
      "metadata": {
        "id": "DkaIH8Q9infx"
      }
    },
    {
      "cell_type": "code",
      "source": [
        "#Specify the start index and the end index, separated by a colon, to return a part of the string.\n",
        "b = \"Hello, World!\"\n",
        "print(b[2:5])\n",
        "\n",
        "#By leaving out the start index, the range will start at the first character\n",
        "b = \"Hello, World!\"\n",
        "print(b[:5])\n",
        "\n",
        "#By leaving out the end index, the range will go to the end\n",
        "b = \"Hello, World!\"\n",
        "print(b[2:])\n",
        "\n",
        "#Use negative indexes to start the slice from the end of the string\n",
        "b = \"Hello, World!\"\n",
        "print(b[-5:-2])"
      ],
      "metadata": {
        "colab": {
          "base_uri": "https://localhost:8080/"
        },
        "id": "uoKSoWZlipCs",
        "outputId": "299f2ded-e20b-4cae-e147-d6a4cbc57099"
      },
      "execution_count": 30,
      "outputs": [
        {
          "output_type": "stream",
          "name": "stdout",
          "text": [
            "llo\n",
            "Hello\n",
            "llo, World!\n",
            "orl\n"
          ]
        }
      ]
    },
    {
      "cell_type": "markdown",
      "source": [
        "#Python - Modify Strings\n",
        "\n",
        "\n",
        "*   upper case\n",
        "*   lower case\n",
        "*   removes whitespace\n",
        "*   replace\n",
        "*   string to substring\n",
        "\n"
      ],
      "metadata": {
        "id": "LI0a595ljVJw"
      }
    },
    {
      "cell_type": "code",
      "source": [
        "#The upper() method returns the string in upper case\n",
        "a = \"Hello, World!\"\n",
        "print(a.upper())\n",
        "\n",
        "#The lower() method returns the string in lower case\n",
        "a = \"Hello, World!\"\n",
        "print(a.lower())\n",
        "\n",
        "#The strip() method removes any whitespace from the beginning or the end\n",
        "a = \" Hello, World! \"\n",
        "print(a.strip()) # returns \"Hello, World!\"\n",
        "\n",
        "#The replace() method replaces a string with another string\n",
        "a = \"Hello, World!\"\n",
        "print(a.replace(\"H\", \"J\"))\n",
        "\n",
        "#The split() method splits the string into substrings if it finds instances of the separator\n",
        "a = \"Hello, World!\"\n",
        "print(a.split(\",\")) # returns ['Hello', ' World!']"
      ],
      "metadata": {
        "colab": {
          "base_uri": "https://localhost:8080/"
        },
        "id": "oEmo3w4ljWd-",
        "outputId": "b5b0c87b-959b-444c-ed09-18cfbf31c026"
      },
      "execution_count": 29,
      "outputs": [
        {
          "output_type": "stream",
          "name": "stdout",
          "text": [
            "HELLO, WORLD!\n",
            "hello, world!\n",
            "Hello, World!\n",
            "Jello, World!\n",
            "['Hello', ' World!']\n"
          ]
        }
      ]
    },
    {
      "cell_type": "markdown",
      "source": [
        "#Python - String Concatenation\n"
      ],
      "metadata": {
        "id": "-IE3Nn4YldPM"
      }
    },
    {
      "cell_type": "code",
      "source": [
        "#To concatenate, or combine, two strings you can use the + operator.\n",
        "#Merge variable a with variable b into variable c\n",
        "a = \"Hello\"\n",
        "b = \"World\"\n",
        "c = a + b\n",
        "print(c)\n",
        "\n",
        "#To add a space between them, add a \" \"\n",
        "a = \"Hello\"\n",
        "b = \"World\"\n",
        "c = a + \" \" + b\n",
        "print(c)"
      ],
      "metadata": {
        "colab": {
          "base_uri": "https://localhost:8080/"
        },
        "id": "EP7kdAN_lpNU",
        "outputId": "11936bea-aa06-414f-a158-f2dafa4d5d5e"
      },
      "execution_count": 32,
      "outputs": [
        {
          "output_type": "stream",
          "name": "stdout",
          "text": [
            "HelloWorld\n",
            "Hello World\n"
          ]
        }
      ]
    },
    {
      "cell_type": "markdown",
      "source": [
        "#Python - Format - Strings\n",
        "*   String Format\n",
        "*   F-Strings\n",
        "*   Placeholders and Modifiers"
      ],
      "metadata": {
        "id": "U5NgJhaemYhV"
      }
    },
    {
      "cell_type": "code",
      "source": [
        "#As we learned in the Python Variables chapter, we cannot combine strings and numbers like this\n",
        "age = 36\n",
        "txt = \"My name is John, I am \" + age\n",
        "print(txt)\n",
        "\n",
        "#But we can combine strings and numbers by using f-strings or the format() method!"
      ],
      "metadata": {
        "colab": {
          "base_uri": "https://localhost:8080/",
          "height": 201
        },
        "id": "Y2NKFhAqmvc8",
        "outputId": "ea3e31f9-ccd3-4d90-bc0a-851ff61bd2d4"
      },
      "execution_count": 33,
      "outputs": [
        {
          "output_type": "error",
          "ename": "TypeError",
          "evalue": "can only concatenate str (not \"int\") to str",
          "traceback": [
            "\u001b[0;31m---------------------------------------------------------------------------\u001b[0m",
            "\u001b[0;31mTypeError\u001b[0m                                 Traceback (most recent call last)",
            "\u001b[0;32m<ipython-input-33-ec96b57d2220>\u001b[0m in \u001b[0;36m<cell line: 3>\u001b[0;34m()\u001b[0m\n\u001b[1;32m      1\u001b[0m \u001b[0;31m#As we learned in the Python Variables chapter, we cannot combine strings and numbers like this\u001b[0m\u001b[0;34m\u001b[0m\u001b[0;34m\u001b[0m\u001b[0m\n\u001b[1;32m      2\u001b[0m \u001b[0mage\u001b[0m \u001b[0;34m=\u001b[0m \u001b[0;36m36\u001b[0m\u001b[0;34m\u001b[0m\u001b[0;34m\u001b[0m\u001b[0m\n\u001b[0;32m----> 3\u001b[0;31m \u001b[0mtxt\u001b[0m \u001b[0;34m=\u001b[0m \u001b[0;34m\"My name is John, I am \"\u001b[0m \u001b[0;34m+\u001b[0m \u001b[0mage\u001b[0m\u001b[0;34m\u001b[0m\u001b[0;34m\u001b[0m\u001b[0m\n\u001b[0m\u001b[1;32m      4\u001b[0m \u001b[0mprint\u001b[0m\u001b[0;34m(\u001b[0m\u001b[0mtxt\u001b[0m\u001b[0;34m)\u001b[0m\u001b[0;34m\u001b[0m\u001b[0;34m\u001b[0m\u001b[0m\n",
            "\u001b[0;31mTypeError\u001b[0m: can only concatenate str (not \"int\") to str"
          ]
        }
      ]
    },
    {
      "cell_type": "markdown",
      "source": [
        "We can combine strings and numbers by using f-strings or the format() method!\n",
        "#F-Strings\n",
        "*   F-String was introduced in Python 3.6, and is now the preferred way of formatting strings.\n",
        "\n",
        "To specify a string as an f-string, simply put an f in front of the string literal, and add curly brackets {} as placeholders for variables and other operations.\n"
      ],
      "metadata": {
        "id": "bDnD_tTInKfJ"
      }
    },
    {
      "cell_type": "code",
      "source": [
        "age = 36\n",
        "txt = f\"My name is John, I am {age}\"\n",
        "print(txt)"
      ],
      "metadata": {
        "colab": {
          "base_uri": "https://localhost:8080/"
        },
        "id": "xN1jZUmcnevi",
        "outputId": "0a4bae46-dc9c-49dd-e081-845198e6c579"
      },
      "execution_count": 34,
      "outputs": [
        {
          "output_type": "stream",
          "name": "stdout",
          "text": [
            "My name is John, I am 36\n"
          ]
        }
      ]
    },
    {
      "cell_type": "markdown",
      "source": [
        "**Placeholders and Modifiers**\n",
        "\n",
        "A placeholder can contain variables, operations, functions, and modifiers\n",
        "to format the value.\n",
        "\n"
      ],
      "metadata": {
        "id": "8hjCEJdHoEph"
      }
    },
    {
      "cell_type": "code",
      "source": [
        "price = 59\n",
        "txt = f\"The price is {price} dollars\"\n",
        "print(txt)"
      ],
      "metadata": {
        "colab": {
          "base_uri": "https://localhost:8080/"
        },
        "id": "EHO-9o1noe50",
        "outputId": "b32ab0e1-bc4d-4a61-a7b5-b1ab194c2442"
      },
      "execution_count": 35,
      "outputs": [
        {
          "output_type": "stream",
          "name": "stdout",
          "text": [
            "The price is 59 dollars\n"
          ]
        }
      ]
    },
    {
      "cell_type": "markdown",
      "source": [
        "A placeholder can include a modifier to format the value.\n",
        "\n",
        "A modifier is included by adding a colon : followed by a legal formatting type, like .2f which means fixed point number with 2 decimals:\n",
        "\n"
      ],
      "metadata": {
        "id": "B2WaUs-5ou-2"
      }
    },
    {
      "cell_type": "code",
      "source": [
        "price = 59\n",
        "txt = f\"The price is {price:.2f} dollars\"\n",
        "print(txt+\"\\n\")\n",
        "\n",
        "#Perform a math operation in the placeholder, and return the result\n",
        "txt = f\"The price is {20 * 59} dollars\"\n",
        "print(txt)"
      ],
      "metadata": {
        "colab": {
          "base_uri": "https://localhost:8080/"
        },
        "id": "HkfOdWugoxo1",
        "outputId": "cbb3c108-79fb-45bd-cb80-cf5cdd59d2d6"
      },
      "execution_count": 38,
      "outputs": [
        {
          "output_type": "stream",
          "name": "stdout",
          "text": [
            "The price is 59.00 dollars\n",
            "\n",
            "The price is 1180 dollars\n"
          ]
        }
      ]
    },
    {
      "cell_type": "markdown",
      "source": [
        "#Python - Escape Characters\n",
        "To insert characters that are illegal in a string, use an escape character.\n",
        "\n",
        "An escape character is a backslash \\ followed by the character you want to insert.\n",
        "\n",
        "An example of an illegal character is a double quote inside a string that is surrounded by double quotes:\n",
        "\n"
      ],
      "metadata": {
        "id": "XGRThVhbqkgT"
      }
    },
    {
      "cell_type": "code",
      "source": [
        "#We will get an error if you use double quotes inside a string that is surrounded by double quotes\n",
        "txt = \"We are the so-called \"Vikings\" from the north.\"\n"
      ],
      "metadata": {
        "colab": {
          "base_uri": "https://localhost:8080/",
          "height": 110
        },
        "id": "FjDlwDUUqwp0",
        "outputId": "a6bdb7d7-0f3a-483b-e0bb-16edf5a6eb88"
      },
      "execution_count": 42,
      "outputs": [
        {
          "output_type": "error",
          "ename": "SyntaxError",
          "evalue": "invalid syntax (<ipython-input-42-ec4b4f5ddf86>, line 2)",
          "traceback": [
            "\u001b[0;36m  File \u001b[0;32m\"<ipython-input-42-ec4b4f5ddf86>\"\u001b[0;36m, line \u001b[0;32m2\u001b[0m\n\u001b[0;31m    txt = \"We are the so-called \"Vikings\" from the north.\"\u001b[0m\n\u001b[0m                                 ^\u001b[0m\n\u001b[0;31mSyntaxError\u001b[0m\u001b[0;31m:\u001b[0m invalid syntax\n"
          ]
        }
      ]
    },
    {
      "cell_type": "code",
      "source": [
        "#To fix this problem, use the escape character \\\"\n",
        "\n",
        "#The escape character allows you to use double quotes when you normally would not be allowed\n",
        "txt = \"We are the so-called \\\"Vikings\\\" from the north.\"\n",
        "print(txt)"
      ],
      "metadata": {
        "colab": {
          "base_uri": "https://localhost:8080/"
        },
        "id": "9_vCK252rKXY",
        "outputId": "eaa5fc6a-ea04-4c62-9cc5-4056fe1a374a"
      },
      "execution_count": 43,
      "outputs": [
        {
          "output_type": "stream",
          "name": "stdout",
          "text": [
            "We are the so-called \"Vikings\" from the north.\n"
          ]
        }
      ]
    },
    {
      "cell_type": "markdown",
      "source": [
        "#Escape Characters\n",
        "Code -->\tResult\n",
        "\n",
        "\\\\'\t--> Single Quote\n",
        "\\\\\\\t  -->Backslash\n",
        "\\n\t  -->New Line\n",
        "\\r\t -->Carriage Return\n",
        "\\t\t -->Tab\n",
        "\\b\t -->Backspace\n",
        "\\f\t -->Form Feed\n",
        "\\ooo\t -->Octal value\n",
        "\\xhh\t  -->Hex value"
      ],
      "metadata": {
        "id": "_XR-z30iphfm"
      }
    },
    {
      "cell_type": "markdown",
      "source": [
        "#String Methods\n",
        "Python has a set of built-in methods that you can use on strings.\n",
        "\n",
        "Note: All string methods return new values. They do not change the original string.\n",
        "format(),find(),center(),count(),encode(),index(),isalpha(),isdigit(),islower(),isascii(),isdecimal(),isidentifier(),isspace(),isnumeric(),istitle(),isprintable(), etc."
      ],
      "metadata": {
        "id": "-EM1HIwYsPN5"
      }
    },
    {
      "cell_type": "markdown",
      "source": [
        "#Python Booleans\n",
        "**Boolean value**\n",
        "\n",
        "Booleans represent one of two values: **True** or **False**."
      ],
      "metadata": {
        "id": "FpllBqWQsXhI"
      }
    },
    {
      "cell_type": "code",
      "source": [
        "#When we compare two values, the expression is evaluated and Python returns the Boolean answer\n",
        "#get one of two answers, True or False.\n",
        "print(10 > 9)\n",
        "print(10 == 9)\n",
        "print(10 < 9)"
      ],
      "metadata": {
        "colab": {
          "base_uri": "https://localhost:8080/"
        },
        "id": "0Owjj-Lxt-Zw",
        "outputId": "71b8d076-7834-4eee-f8e0-b1db00d940c7"
      },
      "execution_count": 44,
      "outputs": [
        {
          "output_type": "stream",
          "name": "stdout",
          "text": [
            "True\n",
            "False\n",
            "False\n"
          ]
        }
      ]
    },
    {
      "cell_type": "code",
      "source": [
        "#When we run a condition in an if statement, Python returns True or False\n",
        "a = 200\n",
        "b = 33\n",
        "\n",
        "#Print a message based on whether the condition is True or False\n",
        "if b > a:\n",
        "  print(\"b is greater than a\")\n",
        "else:\n",
        "  print(\"b is not greater than a\")"
      ],
      "metadata": {
        "colab": {
          "base_uri": "https://localhost:8080/"
        },
        "id": "qxgK9-8puyJF",
        "outputId": "085d9b92-ae94-4b76-e13c-4f60bd540d61"
      },
      "execution_count": 45,
      "outputs": [
        {
          "output_type": "stream",
          "name": "stdout",
          "text": [
            "b is not greater than a\n"
          ]
        }
      ]
    },
    {
      "cell_type": "markdown",
      "source": [
        "#Evaluate Values and Variables\n",
        "The bool() function allows you to evaluate any value, and give you True or False in return"
      ],
      "metadata": {
        "id": "9QVVEIu1vs_S"
      }
    },
    {
      "cell_type": "code",
      "source": [
        "#Evaluate a string and a number\n",
        "\n",
        "print(bool(\"Hello\"))\n",
        "print(bool(15))"
      ],
      "metadata": {
        "colab": {
          "base_uri": "https://localhost:8080/"
        },
        "id": "zEv2j2HKvwck",
        "outputId": "ee3e23f0-129c-4290-a1b0-3a7c29b3991c"
      },
      "execution_count": 46,
      "outputs": [
        {
          "output_type": "stream",
          "name": "stdout",
          "text": [
            "True\n",
            "True\n"
          ]
        }
      ]
    },
    {
      "cell_type": "code",
      "source": [
        "#Evaluate two variables\n",
        "\n",
        "x = \"Hello\"\n",
        "y = 15\n",
        "\n",
        "print(bool(x))\n",
        "print(bool(y))"
      ],
      "metadata": {
        "colab": {
          "base_uri": "https://localhost:8080/"
        },
        "id": "QmzBzQIXv9ng",
        "outputId": "8d00e331-acf7-4550-dd60-c5113d191708"
      },
      "execution_count": 48,
      "outputs": [
        {
          "output_type": "stream",
          "name": "stdout",
          "text": [
            "True\n",
            "True\n"
          ]
        }
      ]
    },
    {
      "cell_type": "markdown",
      "source": [
        "#Most Values are True\n",
        "Almost any value is evaluated to True if it has some sort of content.\n",
        "\n",
        "Any string is True, except empty strings.\n",
        "\n",
        "Any number is True, except 0.\n",
        "\n",
        "Any list, tuple, set, and dictionary are True, except empty ones.\n",
        "\n"
      ],
      "metadata": {
        "id": "RjF5N8OSwV2P"
      }
    },
    {
      "cell_type": "code",
      "source": [
        "bool(\"abc\")\n",
        "bool(123)\n",
        "bool([\"apple\", \"cherry\", \"banana\"])"
      ],
      "metadata": {
        "colab": {
          "base_uri": "https://localhost:8080/"
        },
        "id": "J-EphALmwY9b",
        "outputId": "b44d930b-e1ac-4869-bd58-b87889e54c22"
      },
      "execution_count": 49,
      "outputs": [
        {
          "output_type": "execute_result",
          "data": {
            "text/plain": [
              "True"
            ]
          },
          "metadata": {},
          "execution_count": 49
        }
      ]
    },
    {
      "cell_type": "markdown",
      "source": [
        "#Some Values are False\n",
        "In fact, there are not many values that evaluate to False, except empty values, such as (), [], {}, \"\", the number 0, and the value None. And of course the value False evaluates to False."
      ],
      "metadata": {
        "id": "U7TquVtawjem"
      }
    },
    {
      "cell_type": "code",
      "source": [
        "bool(False)\n",
        "bool(None)\n",
        "bool(0)\n",
        "bool(\"\")\n",
        "bool(())\n",
        "bool([])\n",
        "bool({})"
      ],
      "metadata": {
        "colab": {
          "base_uri": "https://localhost:8080/"
        },
        "id": "vlmDSh6Iw85x",
        "outputId": "d81c3872-fefe-41a7-c5de-655d4bff8a90"
      },
      "execution_count": 50,
      "outputs": [
        {
          "output_type": "execute_result",
          "data": {
            "text/plain": [
              "False"
            ]
          },
          "metadata": {},
          "execution_count": 50
        }
      ]
    },
    {
      "cell_type": "markdown",
      "source": [
        "One more value, or object in this case, evaluates to False, and that is if you have an object that is made from a class with a __len__ function that returns 0 or False:\n",
        "\n"
      ],
      "metadata": {
        "id": "ZD983GRZxNEB"
      }
    },
    {
      "cell_type": "code",
      "source": [
        "class myclass():\n",
        "  def __len__(self):\n",
        "    return 0\n",
        "\n",
        "myobj = myclass()\n",
        "print(bool(myobj))"
      ],
      "metadata": {
        "colab": {
          "base_uri": "https://localhost:8080/"
        },
        "id": "45DYCsXpxOwH",
        "outputId": "e243c8aa-c44c-4f93-8861-735a86bde7f0"
      },
      "execution_count": 51,
      "outputs": [
        {
          "output_type": "stream",
          "name": "stdout",
          "text": [
            "False\n"
          ]
        }
      ]
    },
    {
      "cell_type": "markdown",
      "source": [
        "#Functions can Return a Boolean\n",
        "We can create functions that returns a Boolean Value:\n"
      ],
      "metadata": {
        "id": "FJbaY7YkxZrA"
      }
    },
    {
      "cell_type": "code",
      "source": [
        "def myFunction() :\n",
        "  return True\n",
        "\n",
        "print(myFunction())"
      ],
      "metadata": {
        "colab": {
          "base_uri": "https://localhost:8080/"
        },
        "id": "0iksvBKaxiG7",
        "outputId": "f1aec43d-f13b-4e94-9516-769fbb59f948"
      },
      "execution_count": 52,
      "outputs": [
        {
          "output_type": "stream",
          "name": "stdout",
          "text": [
            "True\n"
          ]
        }
      ]
    },
    {
      "cell_type": "code",
      "source": [
        "#Print \"YES!\" if the function returns True, otherwise print \"NO!\"\n",
        "\n",
        "def myFunction() :\n",
        "  return True\n",
        "\n",
        "if myFunction():\n",
        "  print(\"YES!\")\n",
        "else:\n",
        "  print(\"NO!\")"
      ],
      "metadata": {
        "colab": {
          "base_uri": "https://localhost:8080/"
        },
        "id": "mWVtbpO4xm-o",
        "outputId": "81626289-4fd3-421d-d940-514d2f513ee5"
      },
      "execution_count": 53,
      "outputs": [
        {
          "output_type": "stream",
          "name": "stdout",
          "text": [
            "YES!\n"
          ]
        }
      ]
    },
    {
      "cell_type": "markdown",
      "source": [
        "Python also has many built-in functions that return a boolean value, like the isinstance() function, which can be used to determine if an object is of a certain data type:\n",
        "\n"
      ],
      "metadata": {
        "id": "1afaomY5xxgx"
      }
    },
    {
      "cell_type": "code",
      "source": [
        "#Check if an object is an integer or not\n",
        "\n",
        "x = 200\n",
        "print(isinstance(x, int))"
      ],
      "metadata": {
        "colab": {
          "base_uri": "https://localhost:8080/"
        },
        "id": "-RC_baN_xzBv",
        "outputId": "c10debd7-9f2b-4564-fab9-f606e1adf2e9"
      },
      "execution_count": 54,
      "outputs": [
        {
          "output_type": "stream",
          "name": "stdout",
          "text": [
            "True\n"
          ]
        }
      ]
    },
    {
      "cell_type": "markdown",
      "source": [
        "#Python Operators\n",
        "Operators are used to perform operations on variables and values.\n",
        "\n",
        "In the example below, we use the + operator to add together two values:\n",
        "\n"
      ],
      "metadata": {
        "id": "rNHrfj-Jyk3R"
      }
    },
    {
      "cell_type": "code",
      "source": [
        "print(10+5)"
      ],
      "metadata": {
        "colab": {
          "base_uri": "https://localhost:8080/"
        },
        "id": "WcJafDEnym3x",
        "outputId": "2816d60a-3ce4-4733-85da-dab69b3e1ed2"
      },
      "execution_count": 55,
      "outputs": [
        {
          "output_type": "stream",
          "name": "stdout",
          "text": [
            "15\n"
          ]
        }
      ]
    },
    {
      "cell_type": "markdown",
      "source": [
        "Python divides the operators in the following groups:\n",
        "\n",
        "*   Arithmetic operators\n",
        "*   Assignment operators\n",
        "*   Comparison operators\n",
        "*   Logical operators\n",
        "*   Identity operators\n",
        "*   Membership operators\n",
        "*   Bitwise operators\n",
        "\n",
        "Follow this,if you know details of those operators: https://www.w3schools.com/python/python_operators.asp"
      ],
      "metadata": {
        "id": "ep0a5Z1RytyH"
      }
    },
    {
      "cell_type": "code",
      "source": [
        "#Parentheses has the highest precedence, meaning that expressions inside parentheses must be evaluated first\n",
        "\n",
        "print((6 + 3) - (6 + 3))"
      ],
      "metadata": {
        "colab": {
          "base_uri": "https://localhost:8080/"
        },
        "id": "gvCEQnA0zO5C",
        "outputId": "d893a83b-edf1-437f-ad94-18fcdc1a79f1"
      },
      "execution_count": 56,
      "outputs": [
        {
          "output_type": "stream",
          "name": "stdout",
          "text": [
            "0\n"
          ]
        }
      ]
    },
    {
      "cell_type": "code",
      "source": [
        "#Multiplication * has higher precedence than addition +, and therefor multiplications are evaluated before additions\n",
        "\n",
        "print(100 + 5 * 3)"
      ],
      "metadata": {
        "colab": {
          "base_uri": "https://localhost:8080/"
        },
        "id": "fjjlf4VQzcow",
        "outputId": "b200c203-93ab-4179-aa24-185b82d63f52"
      },
      "execution_count": 57,
      "outputs": [
        {
          "output_type": "stream",
          "name": "stdout",
          "text": [
            "115\n"
          ]
        }
      ]
    },
    {
      "cell_type": "code",
      "source": [
        "#Addition + and subtraction - has the same precedence, and therefor we evaluate the expression from left to right\n",
        "\n",
        "print(5 + 4 - 7 + 3)"
      ],
      "metadata": {
        "colab": {
          "base_uri": "https://localhost:8080/"
        },
        "id": "gxrl0tGozkYw",
        "outputId": "18224604-12d4-4ba7-bf96-584faac377bb"
      },
      "execution_count": 58,
      "outputs": [
        {
          "output_type": "stream",
          "name": "stdout",
          "text": [
            "5\n"
          ]
        }
      ]
    }
  ]
}