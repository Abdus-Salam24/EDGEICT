{
  "nbformat": 4,
  "nbformat_minor": 0,
  "metadata": {
    "colab": {
      "provenance": [],
      "toc_visible": true,
      "authorship_tag": "ABX9TyNwj+lxWrwXJKhBw6Ql5nv8",
      "include_colab_link": true
    },
    "kernelspec": {
      "name": "python3",
      "display_name": "Python 3"
    },
    "language_info": {
      "name": "python"
    }
  },
  "cells": [
    {
      "cell_type": "markdown",
      "metadata": {
        "id": "view-in-github",
        "colab_type": "text"
      },
      "source": [
        "<a href=\"https://colab.research.google.com/github/Abdus-Salam24/EDGEICT/blob/main/Abdus_Salam(Batch_05)_UnderstandingPythonCodes.ipynb\" target=\"_parent\"><img src=\"https://colab.research.google.com/assets/colab-badge.svg\" alt=\"Open In Colab\"/></a>"
      ]
    },
    {
      "cell_type": "markdown",
      "source": [
        "#Print even ASCII character and its ASCII value in a single line, where range order 'a' to 'z' and each ASCII value is small letter of alphabet character.\n"
      ],
      "metadata": {
        "id": "tX14zCIY-EPO"
      }
    },
    {
      "cell_type": "code",
      "execution_count": null,
      "metadata": {
        "colab": {
          "base_uri": "https://localhost:8080/"
        },
        "id": "YhhmHfGj95SC",
        "outputId": "c7374d3c-8c5f-4407-aae5-f0a1d81e54d3"
      },
      "outputs": [
        {
          "output_type": "execute_result",
          "data": {
            "text/plain": [
              "['98=b',\n",
              " '100=d',\n",
              " '102=f',\n",
              " '104=h',\n",
              " '106=j',\n",
              " '108=l',\n",
              " '110=n',\n",
              " '112=p',\n",
              " '114=r',\n",
              " '116=t',\n",
              " '118=v',\n",
              " '120=x',\n",
              " '122=z']"
            ]
          },
          "metadata": {},
          "execution_count": 1
        }
      ],
      "source": [
        "#print even ASCII character in a single line\n",
        "[str(c)+\"=\"+chr(c) for c in range(ord('a'), ord('z')+1) if c%2==0]   # c alphabet character and it defined variable\n"
      ]
    },
    {
      "cell_type": "markdown",
      "source": [
        "#Print splitting the list, *li*. Then create concatenate the list,*li1* and printed it."
      ],
      "metadata": {
        "id": "ZCKKgwgp-4GV"
      }
    },
    {
      "cell_type": "code",
      "source": [
        "#print splitting the list\n",
        "li = [i for i in range(10)]\n",
        "print(li)\n",
        "#print concatenating the list\n",
        "li1= li[:2]+li[3:]\n",
        "print(li1)"
      ],
      "metadata": {
        "colab": {
          "base_uri": "https://localhost:8080/"
        },
        "id": "cV6f5VIO-xA7",
        "outputId": "8b97bc83-4265-4f78-c4d8-f122bca3a2c8"
      },
      "execution_count": null,
      "outputs": [
        {
          "output_type": "stream",
          "name": "stdout",
          "text": [
            "[0, 1, 2, 3, 4, 5, 6, 7, 8, 9]\n",
            "[0, 1, 3, 4, 5, 6, 7, 8, 9]\n"
          ]
        }
      ]
    },
    {
      "cell_type": "markdown",
      "source": [
        "#Find a missing item of original list, ***li*** and modified list, ***li1*** after splitting and concatenating the lists."
      ],
      "metadata": {
        "id": "_SBfCUvScDsV"
      }
    },
    {
      "cell_type": "code",
      "source": [
        "# Way 1: USing set()\n",
        "\n",
        "#splitting and concatenating the lists\n",
        "li = [i for i in range(10)]\n",
        "print(li)  #print splitting the list\n",
        "li1= li[:2]+li[3:]\n",
        "print(li1)  #print concatenating the list\n",
        "\n",
        "# Find the missing element\n",
        "missing_element = set(li) - set(li1)\n",
        "print(f\"The missing element is: {missing_element.pop()}\")\n",
        "\n",
        "## Way 2: Alternative Way\n",
        "li = [i for i in range(10)]\n",
        "print(f\"Original list: {li}\") #print splitting or original the list\n",
        "li1 = li[:2] + li[3:]   #concatenate or modified the list li\n",
        "print(f\"Modified list: {li1}\") #print modified or concatenating the list\n",
        "\n",
        "# Find the missing element using a for loop\n",
        "missing_element = None\n",
        "\n",
        "for item in li:\n",
        "    if item not in li1:\n",
        "        missing_element = item\n",
        "        break  # Exit the loop as soon as the missing element is found\n",
        "\n",
        "print(f\"The missing element is: {missing_element}\")  #print the missing element"
      ],
      "metadata": {
        "colab": {
          "base_uri": "https://localhost:8080/"
        },
        "id": "ec2dDeca_AoG",
        "outputId": "647f2f51-5c28-4e8e-b0b8-47f757e9cce0"
      },
      "execution_count": null,
      "outputs": [
        {
          "output_type": "stream",
          "name": "stdout",
          "text": [
            "[0, 1, 2, 3, 4, 5, 6, 7, 8, 9]\n",
            "[0, 1, 3, 4, 5, 6, 7, 8, 9]\n",
            "The missing element is: 2\n",
            "Original list: [0, 1, 2, 3, 4, 5, 6, 7, 8, 9]\n",
            "Modified list: [0, 1, 3, 4, 5, 6, 7, 8, 9]\n",
            "The missing element is: 2\n"
          ]
        }
      ]
    },
    {
      "cell_type": "markdown",
      "source": [
        "#Complex Numbers, List Comprehension and Encoding in Python"
      ],
      "metadata": {
        "id": "XvpUR_E3hZzA"
      }
    },
    {
      "cell_type": "code",
      "source": [
        "import sys #importing the sys module\n",
        "# call the function to add two complex numbers\n",
        "def addComplex( z1, z2):\n",
        "    return z1 + z2\n",
        "\n",
        "#create a list of complex numbers using a list comprehension\n",
        "#each complex number is of the form (_,2+_)\n",
        "li1 = [complex(_,2+_) for _ in range(6)]\n",
        "\n",
        "#create another list of complex numbers with a different range and step\n",
        "# _ ranges from 2 to 12 (step 2)\n",
        "li2 = [complex(_,2+_) for _ in range(2,14,2)]\n",
        "\n",
        "# Initialize an empty list to store the results of adding corresponding elements\n",
        "li3 = []\n",
        "for i,j in zip(li1,li2):\n",
        "    li3.append(addComplex(i,j))#Add two numbers and append li3\n",
        "\n",
        "# Print the original lists and the resulting list after addition\n",
        "print(f\"li1 = {li1}\\nli2 = {li2}\\nli3= {li3}\")\n",
        "\n",
        "# Encode the resulting list as a UTF-16 encoded string\n",
        "enc_mess = bytes(str(li3).encode('utf-16'))\n",
        "\n",
        "print(f\"Encoded Message Size of type{type(enc_mess)}: \",sys.getsizeof(enc_mess))\n",
        "print(f\"List Size of type{type(li3)}: \",sys.getsizeof(li3))\n",
        "print(f\"Encoded Message Size of type{type(str(li3))}: \",sys.getsizeof(str(li3)))\n",
        "print(\"Original list after addition\", li3)\n",
        "print(f\"Encoded Message: {enc_mess}\")\n",
        "\n",
        "#print(bytes(str(li3), 'utf-16'))\n"
      ],
      "metadata": {
        "colab": {
          "base_uri": "https://localhost:8080/"
        },
        "id": "U9NaxHkGe7YD",
        "outputId": "a6151654-7bae-40f0-c125-f84737b1a8c2"
      },
      "execution_count": 3,
      "outputs": [
        {
          "output_type": "stream",
          "name": "stdout",
          "text": [
            "li1 = [2j, (1+3j), (2+4j), (3+5j), (4+6j), (5+7j)]\n",
            "li2 = [(2+4j), (4+6j), (6+8j), (8+10j), (10+12j), (12+14j)]\n",
            "li3= [(2+6j), (5+9j), (8+12j), (11+15j), (14+18j), (17+21j)]\n",
            "Encoded Message Size of type<class 'bytes'>:  145\n",
            "List Size of type<class 'list'>:  120\n",
            "Encoded Message Size of type<class 'str'>:  104\n",
            "Original list after addition [(2+6j), (5+9j), (8+12j), (11+15j), (14+18j), (17+21j)]\n",
            "Encoded Message: b'\\xff\\xfe[\\x00(\\x002\\x00+\\x006\\x00j\\x00)\\x00,\\x00 \\x00(\\x005\\x00+\\x009\\x00j\\x00)\\x00,\\x00 \\x00(\\x008\\x00+\\x001\\x002\\x00j\\x00)\\x00,\\x00 \\x00(\\x001\\x001\\x00+\\x001\\x005\\x00j\\x00)\\x00,\\x00 \\x00(\\x001\\x004\\x00+\\x001\\x008\\x00j\\x00)\\x00,\\x00 \\x00(\\x001\\x007\\x00+\\x002\\x001\\x00j\\x00)\\x00]\\x00'\n"
          ]
        }
      ]
    },
    {
      "cell_type": "markdown",
      "source": [
        "#Object-Oriented Programming (OOP) in Python with Complex Numbers, List Operations"
      ],
      "metadata": {
        "id": "Ysbjk-BekYX1"
      }
    },
    {
      "cell_type": "code",
      "source": [
        "import sys  # Importing sys module\n",
        "\n",
        "# Define a class to perform operations on complex numbers\n",
        "class ComplexOperations:\n",
        "    def __init__(self):\n",
        "        # Initialize two lists of complex numbers\n",
        "        self.li1 = [complex(_, 2 + _) for _ in range(6)]\n",
        "        self.li2 = [complex(_, 2 + _) for _ in range(2, 14, 2)]\n",
        "        self.li3 = []  # List to store the results after addition\n",
        "\n",
        "    # Non-static method to add two complex numbers\n",
        "    def add_complex(self, z1, z2):\n",
        "        return z1 + z2\n",
        "\n",
        "    # Non-static method to compute the resulting list by adding corresponding elements of li1 and li2\n",
        "    def compute_result(self):\n",
        "        for i, j in zip(self.li1, self.li2):  # Iterate over both lists simultaneously\n",
        "            self.li3.append(self.add_complex(i, j))\n",
        "\n",
        "    # Static method to calculate the memory size of an object\n",
        "    @staticmethod\n",
        "    def calculate_size(obj, encoding='utf-16'):\n",
        "        if isinstance(obj, str):  # If the object is a string\n",
        "            encoded_obj = obj.encode(encoding)  # Encode the string in the specified encoding\n",
        "            return sys.getsizeof(encoded_obj), encoded_obj\n",
        "        return sys.getsizeof(obj)\n",
        "\n",
        "    # Non-static method to display the results of operations\n",
        "    def display_results(self):\n",
        "        # Print the original lists and the resulting list after addition\n",
        "        print(f\"li1 = {self.li1}\\nli2 = {self.li2}\\nli3 = {self.li3}\")\n",
        "\n",
        "        # Encode the resulting list as a string\n",
        "        encoded_message = str(self.li3)\n",
        "\n",
        "        # Calculate memory size for the encoded message and the original list\n",
        "        enc_size, enc_obj = ComplexOperations.calculate_size(encoded_message)\n",
        "        list_size = ComplexOperations.calculate_size(self.li3)\n",
        "\n",
        "        # Print memory sizes and the encoded message\n",
        "        print(f\"Encoded Message Size (type: {type(enc_obj)}): {enc_size}\")\n",
        "        print(f\"List Size (type: {type(self.li3)}): {list_size}\")\n",
        "        print(f\"Encoded Message: {enc_obj}\")\n",
        "\n",
        "        # Print the final list after addition\n",
        "        print(\"Original list after addition:\", self.li3)\n",
        "\n",
        "# Main function to serve as the entry point of the script\n",
        "def main():\n",
        "    # Create an instance of ComplexOperations\n",
        "    complex_ops = ComplexOperations()\n",
        "\n",
        "    # Compute the resulting list by adding corresponding complex numbers\n",
        "    complex_ops.compute_result()\n",
        "\n",
        "    # Display the results and memory usage\n",
        "    complex_ops.display_results()\n",
        "\n",
        "# Entry point of the script\n",
        "if __name__ == \"__main__\":\n",
        "    main()\n"
      ],
      "metadata": {
        "colab": {
          "base_uri": "https://localhost:8080/"
        },
        "id": "Mp3DV7IGk8K8",
        "outputId": "7e5e2831-5f47-4f23-a5f8-2f774228e133"
      },
      "execution_count": 4,
      "outputs": [
        {
          "output_type": "stream",
          "name": "stdout",
          "text": [
            "li1 = [2j, (1+3j), (2+4j), (3+5j), (4+6j), (5+7j)]\n",
            "li2 = [(2+4j), (4+6j), (6+8j), (8+10j), (10+12j), (12+14j)]\n",
            "li3 = [(2+6j), (5+9j), (8+12j), (11+15j), (14+18j), (17+21j)]\n",
            "Encoded Message Size (type: <class 'bytes'>): 145\n",
            "List Size (type: <class 'list'>): 120\n",
            "Encoded Message: b'\\xff\\xfe[\\x00(\\x002\\x00+\\x006\\x00j\\x00)\\x00,\\x00 \\x00(\\x005\\x00+\\x009\\x00j\\x00)\\x00,\\x00 \\x00(\\x008\\x00+\\x001\\x002\\x00j\\x00)\\x00,\\x00 \\x00(\\x001\\x001\\x00+\\x001\\x005\\x00j\\x00)\\x00,\\x00 \\x00(\\x001\\x004\\x00+\\x001\\x008\\x00j\\x00)\\x00,\\x00 \\x00(\\x001\\x007\\x00+\\x002\\x001\\x00j\\x00)\\x00]\\x00'\n",
            "Original list after addition: [(2+6j), (5+9j), (8+12j), (11+15j), (14+18j), (17+21j)]\n"
          ]
        }
      ]
    }
  ]
}