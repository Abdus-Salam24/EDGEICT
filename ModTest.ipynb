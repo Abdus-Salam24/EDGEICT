{
  "nbformat": 4,
  "nbformat_minor": 0,
  "metadata": {
    "colab": {
      "provenance": [],
      "authorship_tag": "ABX9TyPIfy2zuiV6voDJFFZ4lxSY",
      "include_colab_link": true
    },
    "kernelspec": {
      "name": "python3",
      "display_name": "Python 3"
    },
    "language_info": {
      "name": "python"
    }
  },
  "cells": [
    {
      "cell_type": "markdown",
      "metadata": {
        "id": "view-in-github",
        "colab_type": "text"
      },
      "source": [
        "<a href=\"https://colab.research.google.com/github/Abdus-Salam24/EDGEICT/blob/main/ModTest.ipynb\" target=\"_parent\"><img src=\"https://colab.research.google.com/assets/colab-badge.svg\" alt=\"Open In Colab\"/></a>"
      ]
    },
    {
      "cell_type": "code",
      "execution_count": null,
      "metadata": {
        "colab": {
          "base_uri": "https://localhost:8080/"
        },
        "id": "J3j16mxykmJQ",
        "outputId": "f33563a6-439e-423b-c7db-3bda145b8eda"
      },
      "outputs": [
        {
          "output_type": "stream",
          "name": "stdout",
          "text": [
            "['a = 97', 'b = 98', 'c = 99', 'd = 100', 'e = 101', 'f = 102', 'g = 103', 'h = 104', 'i = 105', 'j = 106', 'k = 107', 'l = 108', 'm = 109', 'n = 110', 'o = 111', 'p = 112', 'q = 113', 'r = 114', 's = 115', 't = 116', 'u = 117', 'v = 118', 'w = 119', 'x = 120', 'y = 121', 'z = 122']\n"
          ]
        }
      ],
      "source": [
        "#if you want to import module, you will be upload modalpha.py file\n",
        "import modalpha as ma\n",
        "\n",
        "print(ma.getAlpha('a','z'))"
      ]
    }
  ]
}