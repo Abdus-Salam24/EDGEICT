{
  "nbformat": 4,
  "nbformat_minor": 0,
  "metadata": {
    "colab": {
      "provenance": [],
      "authorship_tag": "ABX9TyNvIJkl0Fdau8fGLxclw+RT",
      "include_colab_link": true
    },
    "kernelspec": {
      "name": "python3",
      "display_name": "Python 3"
    },
    "language_info": {
      "name": "python"
    }
  },
  "cells": [
    {
      "cell_type": "markdown",
      "metadata": {
        "id": "view-in-github",
        "colab_type": "text"
      },
      "source": [
        "<a href=\"https://colab.research.google.com/github/Abdus-Salam24/EDGEICT/blob/main/Untitled5.ipynb\" target=\"_parent\"><img src=\"https://colab.research.google.com/assets/colab-badge.svg\" alt=\"Open In Colab\"/></a>"
      ]
    },
    {
      "cell_type": "code",
      "execution_count": 3,
      "metadata": {
        "colab": {
          "base_uri": "https://localhost:8080/"
        },
        "id": "azdeDioMMjEA",
        "outputId": "bb4582a0-21cc-4c9e-ae9c-e198ebe44ed9"
      },
      "outputs": [
        {
          "name": "stdout",
          "output_type": "stream",
          "text": [
            "Enter 1 to add, \n",
            "2 to subtract, \n",
            "3 to multiplication \n",
            "4 for division\n",
            "5 for power and\n",
            "6 for modules\n",
            " 0 to exit\n",
            "Your Choice:6\n",
            "Enter a:5\n",
            "Enter b:7\n",
            "5\n",
            "Enter 1 to add, \n",
            "2 to subtract, \n",
            "3 to multiplication \n",
            "4 for division\n",
            "5 for power and\n",
            "6 for modules\n",
            " 0 to exit\n",
            "Your Choice:6\n",
            "Enter a:8\n",
            "Enter b:7\n",
            "1\n",
            "Enter 1 to add, \n",
            "2 to subtract, \n",
            "3 to multiplication \n",
            "4 for division\n",
            "5 for power and\n",
            "6 for modules\n",
            " 0 to exit\n",
            "Your Choice:1\n",
            "Enter a:14\n",
            "Enter b:16\n",
            "30\n",
            "Enter 1 to add, \n",
            "2 to subtract, \n",
            "3 to multiplication \n",
            "4 for division\n",
            "5 for power and\n",
            "6 for modules\n",
            " 0 to exit\n",
            "Your Choice:0\n"
          ]
        }
      ],
      "source": [
        "import simcal as s\n",
        "\n",
        "while True:\n",
        "  print(\"Enter 1 to add, \\n2 to subtract, \\n3 to multiplication \\n4 for division\\n5 for power and\\n6 for modules\\n 0 to exit\")\n",
        "\n",
        "  choice = int(input(\"Your Choice:\"))\n",
        "\n",
        "  if choice ==0:\n",
        "     break\n",
        "\n",
        "  if choice==1:\n",
        "     a = int(input(\"Enter a:\"))\n",
        "     b = int(input(\"Enter b:\"))\n",
        "     print(s.add(a,b))\n",
        "  if choice==2:\n",
        "     a = int(input(\"Enter a:\"))\n",
        "     b = int(input(\"Enter b:\"))\n",
        "     print(s.sub(a,b))\n",
        "  if choice==3:\n",
        "     a = int(input(\"Enter a:\"))\n",
        "     b = int(input(\"Enter b:\"))\n",
        "     print(s.mul(a,b))\n",
        "  if choice==4:\n",
        "     a = int(input(\"Enter a:\"))\n",
        "     b = int(input(\"Enter b:\"))\n",
        "     print(s.div(a,b))\n",
        "  if choice==5:\n",
        "     a = int(input(\"Enter a:\"))\n",
        "     b = int(input(\"Enter b:\"))\n",
        "     print(s.pow(a,b))\n",
        "  if choice==6:\n",
        "     a = int(input(\"Enter a:\"))\n",
        "     b = int(input(\"Enter b:\"))\n",
        "     print(s.mod(a,b))"
      ]
    }
  ]
}