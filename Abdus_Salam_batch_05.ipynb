{
  "nbformat": 4,
  "nbformat_minor": 0,
  "metadata": {
    "colab": {
      "provenance": [],
      "toc_visible": true,
      "authorship_tag": "ABX9TyPrXpqxlZbKAnaAJNTbfIDy",
      "include_colab_link": true
    },
    "kernelspec": {
      "name": "python3",
      "display_name": "Python 3"
    },
    "language_info": {
      "name": "python"
    }
  },
  "cells": [
    {
      "cell_type": "markdown",
      "metadata": {
        "id": "view-in-github",
        "colab_type": "text"
      },
      "source": [
        "<a href=\"https://colab.research.google.com/github/Abdus-Salam24/EDGEICT/blob/main/Abdus_Salam_batch_05.ipynb\" target=\"_parent\"><img src=\"https://colab.research.google.com/assets/colab-badge.svg\" alt=\"Open In Colab\"/></a>"
      ]
    },
    {
      "cell_type": "code",
      "execution_count": 1,
      "metadata": {
        "colab": {
          "base_uri": "https://localhost:8080/"
        },
        "id": "n1u2aNSS_faP",
        "outputId": "72aa2691-6c89-4649-a1bb-2ce555932b19"
      },
      "outputs": [
        {
          "output_type": "stream",
          "name": "stdout",
          "text": [
            "5\n",
            "John\n"
          ]
        }
      ],
      "source": [
        "x = 5\n",
        "y = \"John\"\n",
        "print(x)\n",
        "print(y)"
      ]
    },
    {
      "cell_type": "markdown",
      "source": [
        "Printed a integer number where variable name is x and it's value 5.second line printed a string where variable name y and it's string value is \"John\"."
      ],
      "metadata": {
        "id": "V-_KygZ1_lEG"
      }
    },
    {
      "cell_type": "code",
      "source": [
        "x = 4       # x is of type int\n",
        "x = \"Sally\" # x is now of type str\n",
        "print(x)"
      ],
      "metadata": {
        "colab": {
          "base_uri": "https://localhost:8080/"
        },
        "id": "oU1BZkRw_ovx",
        "outputId": "66ad7002-8d89-4873-a88e-17beb804003c"
      },
      "execution_count": 2,
      "outputs": [
        {
          "output_type": "stream",
          "name": "stdout",
          "text": [
            "Sally\n"
          ]
        }
      ]
    },
    {
      "cell_type": "markdown",
      "source": [
        "First variable x is of type integer, second variable x is now of type string."
      ],
      "metadata": {
        "id": "VH5mxNqa_yjv"
      }
    },
    {
      "cell_type": "code",
      "source": [
        "x = 5\n",
        "y = \"John\"\n",
        "print(type(x))\n",
        "print(type(y))"
      ],
      "metadata": {
        "colab": {
          "base_uri": "https://localhost:8080/"
        },
        "id": "VbFkCQ3eBb1k",
        "outputId": "409faa86-b84d-4461-d10f-278ff2f632ea"
      },
      "execution_count": 3,
      "outputs": [
        {
          "output_type": "stream",
          "name": "stdout",
          "text": [
            "<class 'int'>\n",
            "<class 'str'>\n"
          ]
        }
      ]
    },
    {
      "cell_type": "markdown",
      "source": [
        "First variable x is of type integer, second variable x is now of type string."
      ],
      "metadata": {
        "id": "yf3I485kBlKa"
      }
    },
    {
      "cell_type": "code",
      "source": [
        "x, y, z = \"Orange\", \"Banana\", \"Cherry\"\n",
        "print(x)\n",
        "print(y)\n",
        "print(z)"
      ],
      "metadata": {
        "colab": {
          "base_uri": "https://localhost:8080/"
        },
        "id": "xtQW6UIhBunX",
        "outputId": "84ce3e28-ddd7-4316-90f5-8c1009a325be"
      },
      "execution_count": 4,
      "outputs": [
        {
          "output_type": "stream",
          "name": "stdout",
          "text": [
            "Orange\n",
            "Banana\n",
            "Cherry\n"
          ]
        }
      ]
    },
    {
      "cell_type": "markdown",
      "source": [
        "Python allows you to assign values to multiple variables in one line."
      ],
      "metadata": {
        "id": "5mNhQG5RB6VL"
      }
    },
    {
      "cell_type": "code",
      "source": [
        "x = \"Python\"\n",
        "y = \"is\"\n",
        "z = \"awesome\"\n",
        "print(x, y, z)\n",
        "print(x + y + z)"
      ],
      "metadata": {
        "colab": {
          "base_uri": "https://localhost:8080/"
        },
        "id": "S4OGiICqB_oi",
        "outputId": "a8fac890-92b2-4c52-8f1c-d8c143541174"
      },
      "execution_count": 6,
      "outputs": [
        {
          "output_type": "stream",
          "name": "stdout",
          "text": [
            "Python is awesome\n",
            "Pythonisawesome\n"
          ]
        }
      ]
    },
    {
      "cell_type": "markdown",
      "source": [
        "In the print() function, you output multiple variables, separated by a comma.You can also use the + operator to output multiple variables."
      ],
      "metadata": {
        "id": "RkuGUtHCCPMR"
      }
    },
    {
      "cell_type": "code",
      "source": [
        "x = 5\n",
        "y = 10\n",
        "print(x + y)"
      ],
      "metadata": {
        "colab": {
          "base_uri": "https://localhost:8080/"
        },
        "id": "cyOsi0YbCflt",
        "outputId": "7829cbdd-b0c8-49c9-bb58-0d8ec5b6904e"
      },
      "execution_count": 7,
      "outputs": [
        {
          "output_type": "stream",
          "name": "stdout",
          "text": [
            "15\n"
          ]
        }
      ]
    },
    {
      "cell_type": "markdown",
      "source": [
        "The + character works as a mathematical operator"
      ],
      "metadata": {
        "id": "TTTVYg5QCnve"
      }
    },
    {
      "cell_type": "code",
      "source": [
        "x = \"awesome\"\n",
        "\n",
        "def myfunc():\n",
        "  print(\"Python is \" + x)\n",
        "\n",
        "myfunc()"
      ],
      "metadata": {
        "colab": {
          "base_uri": "https://localhost:8080/"
        },
        "id": "X1YgJ1KaCwiN",
        "outputId": "80853e26-93c6-4aed-e059-6943d055b5c2"
      },
      "execution_count": 8,
      "outputs": [
        {
          "output_type": "stream",
          "name": "stdout",
          "text": [
            "Python is awesome\n"
          ]
        }
      ]
    },
    {
      "cell_type": "markdown",
      "source": [
        "Variables that are created outside of a function (as in all of the examples in the previous pages) are known as global variables.\n",
        "Global variables can be used by everyone, both inside of functions and outside."
      ],
      "metadata": {
        "id": "CK5zyASVC8y6"
      }
    },
    {
      "cell_type": "code",
      "source": [],
      "metadata": {
        "id": "mJ-hgB_rDEM2"
      },
      "execution_count": null,
      "outputs": []
    }
  ]
}