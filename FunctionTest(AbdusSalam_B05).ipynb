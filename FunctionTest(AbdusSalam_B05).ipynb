{
  "nbformat": 4,
  "nbformat_minor": 0,
  "metadata": {
    "colab": {
      "provenance": [],
      "authorship_tag": "ABX9TyOCMTawxn0BVe+vxEB/0nFC",
      "include_colab_link": true
    },
    "kernelspec": {
      "name": "python3",
      "display_name": "Python 3"
    },
    "language_info": {
      "name": "python"
    }
  },
  "cells": [
    {
      "cell_type": "markdown",
      "metadata": {
        "id": "view-in-github",
        "colab_type": "text"
      },
      "source": [
        "<a href=\"https://colab.research.google.com/github/Abdus-Salam24/EDGEICT/blob/main/FunctionTest(AbdusSalam_B05).ipynb\" target=\"_parent\"><img src=\"https://colab.research.google.com/assets/colab-badge.svg\" alt=\"Open In Colab\"/></a>"
      ]
    },
    {
      "cell_type": "code",
      "execution_count": 5,
      "metadata": {
        "colab": {
          "base_uri": "https://localhost:8080/"
        },
        "id": "PFumLqF2IQsF",
        "outputId": "0d4c4383-47d4-4d98-fa35-a6d2657fc17a"
      },
      "outputs": [
        {
          "output_type": "stream",
          "name": "stdout",
          "text": [
            "Enter a Number: 10\n",
            "The Sum of 10 Numbers Series is: 55\n"
          ]
        }
      ],
      "source": [
        "def SeriesSum(n):\n",
        "  sum = (n*(n+1))//2\n",
        "  return sum\n",
        "\n",
        "x = int(input(\"Enter a Number: \"))\n",
        "print(f\"The Sum of {x} Numbers Series is:\", SeriesSum(x))"
      ]
    }
  ]
}