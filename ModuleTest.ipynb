{
  "nbformat": 4,
  "nbformat_minor": 0,
  "metadata": {
    "colab": {
      "provenance": [],
      "authorship_tag": "ABX9TyMsPWfx9COCLUrFf0I9RjtD",
      "include_colab_link": true
    },
    "kernelspec": {
      "name": "python3",
      "display_name": "Python 3"
    },
    "language_info": {
      "name": "python"
    }
  },
  "cells": [
    {
      "cell_type": "markdown",
      "metadata": {
        "id": "view-in-github",
        "colab_type": "text"
      },
      "source": [
        "<a href=\"https://colab.research.google.com/github/Abdus-Salam24/EDGEICT/blob/main/ModuleTest.ipynb\" target=\"_parent\"><img src=\"https://colab.research.google.com/assets/colab-badge.svg\" alt=\"Open In Colab\"/></a>"
      ]
    },
    {
      "cell_type": "code",
      "execution_count": 4,
      "metadata": {
        "id": "ePouIpDErDyv",
        "colab": {
          "base_uri": "https://localhost:8080/"
        },
        "outputId": "6e99ffc4-a11b-496f-cbbc-ce3cb19f6004"
      },
      "outputs": [
        {
          "output_type": "stream",
          "name": "stdout",
          "text": [
            "If Comrade Napoleon says it, it must be right.\n",
            "[100, 200, 300]\n"
          ]
        }
      ],
      "source": [
        "#if you want to import module, you will be upload module.py file\n",
        "import module\n",
        "print(module.s)\n",
        "print(module.a)"
      ]
    }
  ]
}